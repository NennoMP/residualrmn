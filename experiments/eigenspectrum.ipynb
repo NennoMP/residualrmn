{
 "cells": [
  {
   "cell_type": "code",
   "execution_count": null,
   "id": "0",
   "metadata": {},
   "outputs": [],
   "source": [
    "from typing import Dict, Tuple\n",
    "\n",
    "import matplotlib.lines as mlines\n",
    "import matplotlib.pyplot as plt\n",
    "import numpy as np\n",
    "import torch\n",
    "\n",
    "import src.networks.residualrmn as residualrmn\n",
    "import src.networks.init_utils as init_utils\n",
    "\n",
    "# auto-reloading external modules\n",
    "%load_ext autoreload\n",
    "%autoreload 2"
   ]
  },
  {
   "cell_type": "code",
   "execution_count": null,
   "id": "1",
   "metadata": {},
   "outputs": [],
   "source": [
    "plt.rcParams['axes.titlesize'] = 8\n",
    "plt.rcParams['legend.fontsize'] = 8\n",
    "plt.rcParams['axes.labelsize'] = 8\n",
    "plt.rcParams['xtick.labelsize'] = 6\n",
    "plt.rcParams['ytick.labelsize'] = 6"
   ]
  },
  {
   "cell_type": "markdown",
   "id": "2",
   "metadata": {},
   "source": [
    "# Eigenspectrum Analysis"
   ]
  },
  {
   "cell_type": "markdown",
   "id": "3",
   "metadata": {},
   "source": [
    "In this notebook, we provide a small tutorial to replicate the eigenspectrum analyses in our paper *Residual Reservoir Memory Networks*, IJCNN (2025). Specifically, the tutorial covers the following:\n",
    "- **Eigenspectrum analysis of the orthogonal matrices** employed in the temporal residual connections (Figure 2);\n",
    "- **Eigenspectrum analysis of the Jacobian** of each ResRMN configuration (Figure 3)."
   ]
  },
  {
   "cell_type": "markdown",
   "id": "4",
   "metadata": {},
   "source": [
    "## Orthogonal matrices"
   ]
  },
  {
   "cell_type": "markdown",
   "id": "5",
   "metadata": {},
   "source": [
    "Here, we visualize the eigenvalues distribution of the three orthogonal matrices (random orthogonal, cyclic orthogonal, and identity) employed to initialize the temporal residual connections."
   ]
  },
  {
   "cell_type": "code",
   "execution_count": null,
   "id": "6",
   "metadata": {},
   "outputs": [],
   "source": [
    "Nh = 100 # assuming 100 recurrent neurons as in the manuscript\n",
    "ortho_configs = {\n",
    "    'ortho': r'Random orthogonal $\\mathbf{O}$',\n",
    "    'cycle': r'Cyclic $\\mathbf{C}$', \n",
    "    'identity': r'Identity $\\mathbf{I}$'\n",
    "}\n",
    "\n",
    "fig, axes = plt.subplots(1, 3, figsize=(9, 3), sharey=True, sharex=True)\n",
    "for idx, (ortho_config, title) in enumerate(ortho_configs.items()):\n",
    "    ax = axes[idx]\n",
    "    ax.set_aspect('equal')\n",
    "\n",
    "    # Eigenvalues\n",
    "    O = init_utils.init_orthogonal(\n",
    "        M=Nh,\n",
    "        ortho_config=ortho_config\n",
    "    )\n",
    "    eig = torch.linalg.eig(O)[0]\n",
    "    ax.scatter(eig.real, eig.imag, c='steelblue', marker='o', s=10)\n",
    "    \n",
    "    # Unitary circle\n",
    "    theta = np.linspace(0, 2 * np.pi, 100)\n",
    "    ax.plot(np.cos(theta), np.sin(theta), color='orange')\n",
    "\n",
    "    # Labels\n",
    "    ax.set_title(title)\n",
    "    ax.set_xlabel('Re')\n",
    "    axes[0].set_ylabel('Im', rotation='vertical')\n",
    "    \n",
    "    # Limits and axes\n",
    "    ax.set_xlim(-1.5, 1.5)\n",
    "    ax.set_ylim(-1.5, 1.5)\n",
    "    ax.set_xticks([-1., -0.5, 0., 0.5, 1.])\n",
    "    ax.set_yticks([-1., -0.5, 0., 0.5, 1.])\n",
    "\n",
    "plt.show()"
   ]
  },
  {
   "cell_type": "markdown",
   "id": "7",
   "metadata": {},
   "source": [
    "## Jacobian of ResRMN"
   ]
  },
  {
   "cell_type": "markdown",
   "id": "8",
   "metadata": {},
   "source": [
    "Here, we visualize the eigenvalues distribution of the Jacobian for all three ResRMN configurations: ResRMN$_\\mathrm{R}$, ResRMN$_\\mathrm{C}$, ResRMN$_\\mathrm{I}$.\n",
    "\n",
    "The dynamics of ResRMN are driven by a random input vector and a random state, both uniformly sampled in $(-1, 1)$. We assume the same hyperparameters mentioned in the manuscripts. \n",
    "Specifically, $N_{m}, N_{h} = 100$ recurrent neurons in both modules, spectral radius $\\rho = 1$, all input weight matrices with scaling of $1$, zero bias $\\omega_{b} = 0$, and scaling coefficients $\\alpha = 1$, $\\beta = 1$. \n",
    "However, feel free to play around with them."
   ]
  },
  {
   "cell_type": "code",
   "execution_count": null,
   "id": "9",
   "metadata": {},
   "outputs": [],
   "source": [
    "def get_jacobian_eigenvalues(hparams: Dict, resrmn_config: str) -> Tuple[torch.Tensor, torch.Tensor]:\n",
    "    \"\"\"Initialize a ResRMN and compute its Jacobian's eigenspectrum.\n",
    "    \n",
    "    This utility method initializes a specific ResRMN configuration, drives its dynamics with a \n",
    "    random external input and a random state, both uniformly sampled in (-1, 1), and computes the \n",
    "    eigenspectrum of the Jacobian of the memory and non-linear module. \n",
    "    Note that the eigenvalues of a ResRMN's Jacobian are non-other than the union of the \n",
    "    eigenvalues of the Jacobian of the memory module (i.e., matrix V_m) and the Jacobian of the \n",
    "    non-linear module.\n",
    "\n",
    "    Args:\n",
    "        hparams: Hyperparameters dictionary.\n",
    "        resrmn_config: The configuration to employ in the temporal residual connections. Options \n",
    "        are 'ortho', 'cycle', and 'identity'.\n",
    "\n",
    "    Returns:\n",
    "        eig_m: The eigenvalues of the Jacobian of the memory module.\n",
    "        eig: The eigenvalues of the Jacobian of the non-linear module.\n",
    "    \"\"\"\n",
    "    model = residualrmn.residualrmn_(hparams=hparams, skip_option_t=resrmn_config)\n",
    "\n",
    "    # External input and states\n",
    "    x = torch.FloatTensor(hparams['in_size']).uniform_(-1, 1)\n",
    "    m_prev = torch.FloatTensor(hparams['n_units_m']).uniform_(-1, 1)\n",
    "    h_prev = torch.FloatTensor(hparams['n_units']).uniform_(-1, 1)\n",
    "    \n",
    "    # Memory module eigenvalues\n",
    "    Vm = model.memory_reservoir.cell.recurrent_memory_kernel # Jacobian\n",
    "    mt = m_prev @ model.memory_reservoir.cell.recurrent_memory_kernel + x @ model.memory_reservoir.cell.in_kernel # forward pass\n",
    "    eig_m = torch.linalg.eig(Vm)[0] # eigenvalues\n",
    "    \n",
    "    # Non-linear module eigenvalues\n",
    "    pt = h_prev @ model.nonlinear_reservoir.cell.recurrent_kernel + mt @ model.nonlinear_reservoir.cell.memory_kernel + x @ model.nonlinear_reservoir.cell.in_kernel + model.nonlinear_reservoir.cell.bias # intermediate activation\n",
    "    D = torch.diag(1 - torch.tanh(pt)**2)\n",
    "    J = (hparams['alpha'] * model.nonlinear_reservoir.cell.O) + (hparams['beta'] * D @ model.nonlinear_reservoir.cell.recurrent_kernel) # Jacobian\n",
    "    eig = torch.linalg.eig(J)[0] # eigenvalues\n",
    "    \n",
    "    return eig_m, eig"
   ]
  },
  {
   "cell_type": "code",
   "execution_count": null,
   "id": "10",
   "metadata": {},
   "outputs": [],
   "source": [
    "# Hyperparameters\n",
    "hparams = {\n",
    "    'in_size': 1, # input size (N_x)\n",
    "    'n_units_m': 100, # memory reservoir recurrent neurons (N_m)\n",
    "    'n_units': 100, # non-linear reservoir recurrent neurons (N_h)\n",
    "    'rho': 1., # spectral radius (\\rho)\n",
    "    'alpha': 1., # residual branch coefficient\n",
    "    'beta': 1. # non-linear branch coefficient\n",
    "}\n",
    "resrmn_configs = {\n",
    "    'ortho': r'ResRMN$_\\mathrm{R}$',\n",
    "    'cycle': r'ResRMN$_\\mathrm{C}$', \n",
    "    'identity': r'ResRMN$_\\mathrm{I}$'\n",
    "}\n",
    "\n",
    "fig, axes = plt.subplots(1, 3, figsize=(9, 3), sharey=True, sharex=True)\n",
    "for idx, (resrmn_config, title) in enumerate(resrmn_configs.items()):\n",
    "    ax = axes[idx]\n",
    "    ax.set_aspect('equal')\n",
    "\n",
    "    # Get eigenvalues of the Jacobian of each module\n",
    "    eig_m, eig = get_jacobian_eigenvalues(hparams=hparams, resrmn_config=resrmn_config)\n",
    "    ax.scatter(eig_m.real, eig_m.imag, c='maroon', marker='o', s=10)\n",
    "    ax.scatter(eig.real, eig.imag, c='steelblue', marker='o', s=10)\n",
    "    \n",
    "    # Unitary circle\n",
    "    theta = np.linspace(0, 2 * np.pi, 100)\n",
    "    ax.plot(np.cos(theta), np.sin(theta), color='orange')\n",
    "\n",
    "    # Labels\n",
    "    ax.set_title(title)\n",
    "    ax.set_xlabel('Re')\n",
    "    axes[0].set_ylabel('Im', rotation='vertical')\n",
    "    \n",
    "    # Limits and axes\n",
    "    ax.set_xlim(-1.5, 1.5)\n",
    "    ax.set_ylim(-1.5, 1.5)\n",
    "    ax.set_xticks([-1., -0.5, 0., 0.5, 1.])\n",
    "    ax.set_yticks([-1., -0.5, 0., 0.5, 1.])\n",
    "\n",
    "fig.legend(\n",
    "    handles=[\n",
    "        mlines.Line2D([], [], color='maroon', marker='o', linestyle='None', markersize=4, label='Memory module'),\n",
    "        mlines.Line2D([], [], color='steelblue', marker='o', linestyle='None',  markersize=4, label='ResESN module')\n",
    "    ],\n",
    "    bbox_to_anchor=(0.515, 1.), \n",
    "    loc='upper center', \n",
    "    ncol=2, \n",
    "    handletextpad=0, \n",
    "    columnspacing=0\n",
    ")\n",
    "plt.show()"
   ]
  }
 ],
 "metadata": {
  "kernelspec": {
   "display_name": "Python 3 (ipykernel)",
   "language": "python",
   "name": "python3"
  },
  "language_info": {
   "codemirror_mode": {
    "name": "ipython",
    "version": 3
   },
   "file_extension": ".py",
   "mimetype": "text/x-python",
   "name": "python",
   "nbconvert_exporter": "python",
   "pygments_lexer": "ipython3",
   "version": "3.12.9"
  }
 },
 "nbformat": 4,
 "nbformat_minor": 5
}
